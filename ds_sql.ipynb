{
 "cells": [
  {
   "cell_type": "code",
   "execution_count": 2,
   "metadata": {},
   "outputs": [],
   "source": [
    "import pandas as pd\n",
    "import sqlite3 as sql"
   ]
  },
  {
   "cell_type": "code",
   "execution_count": 5,
   "metadata": {},
   "outputs": [
    {
     "name": "stdout",
     "output_type": "stream",
     "text": [
      "          work_year experience_level employment_type  \\\n",
      "0       0      2020               MI              FT   \n",
      "1       1      2020               SE              FT   \n",
      "2       2      2020               SE              FT   \n",
      "3       3      2020               MI              FT   \n",
      "4       4      2020               SE              FT   \n",
      "...   ...       ...              ...             ...   \n",
      "1210  602      2022               SE              FT   \n",
      "1211  603      2022               SE              FT   \n",
      "1212  604      2022               SE              FT   \n",
      "1213  605      2022               SE              FT   \n",
      "1214  606      2022               MI              FT   \n",
      "\n",
      "                       job_title  salary salary_currency salary_in_usd  \\\n",
      "0                 Data Scientist   70000             EUR         79833   \n",
      "1     Machine Learning Scientist  260000             USD        260000   \n",
      "2              Big Data Engineer   85000             GBP        109024   \n",
      "3           Product Data Analyst   20000             USD         20000   \n",
      "4      Machine Learning Engineer  150000             USD        150000   \n",
      "...                          ...     ...             ...           ...   \n",
      "1210               Data Engineer  154000             USD        154000   \n",
      "1211               Data Engineer  126000             USD        126000   \n",
      "1212                Data Analyst  129000             USD        129000   \n",
      "1213                Data Analyst  150000             USD        150000   \n",
      "1214                AI Scientist  200000             USD        200000   \n",
      "\n",
      "     employee_residence remote_ratio company_location company_size  \n",
      "0                    DE            0               DE            L  \n",
      "1                    JP            0               JP            S  \n",
      "2                    GB           50               GB            M  \n",
      "3                    HN            0               HN            S  \n",
      "4                    US           50               US            L  \n",
      "...                 ...          ...              ...          ...  \n",
      "1210                 US          100               US            M  \n",
      "1211                 US          100               US            M  \n",
      "1212                 US            0               US            M  \n",
      "1213                 US          100               US            M  \n",
      "1214                 IN          100               US            L  \n",
      "\n",
      "[1215 rows x 12 columns]\n"
     ]
    }
   ],
   "source": [
    "database = \"salary.db\"\n",
    "connect = sql.connect(database)\n",
    "\n",
    "\n",
    "query = \"SELECT * FROM salary\"\n",
    "print(pd.read_sql_query(query, con=connect))\n",
    "connect.close()"
   ]
  }
 ],
 "metadata": {
  "kernelspec": {
   "display_name": "Python 3.10.4 64-bit",
   "language": "python",
   "name": "python3"
  },
  "language_info": {
   "codemirror_mode": {
    "name": "ipython",
    "version": 3
   },
   "file_extension": ".py",
   "mimetype": "text/x-python",
   "name": "python",
   "nbconvert_exporter": "python",
   "pygments_lexer": "ipython3",
   "version": "3.10.4"
  },
  "orig_nbformat": 4,
  "vscode": {
   "interpreter": {
    "hash": "aee8b7b246df8f9039afb4144a1f6fd8d2ca17a180786b69acc140d282b71a49"
   }
  }
 },
 "nbformat": 4,
 "nbformat_minor": 2
}
